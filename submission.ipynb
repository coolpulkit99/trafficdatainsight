{
  "nbformat": 4,
  "nbformat_minor": 0,
  "metadata": {
    "kernelspec": {
      "language": "python",
      "display_name": "Python 3",
      "name": "python3"
    },
    "language_info": {
      "name": "python",
      "version": "3.6.6",
      "mimetype": "text/x-python",
      "codemirror_mode": {
        "name": "ipython",
        "version": 3
      },
      "pygments_lexer": "ipython3",
      "nbconvert_exporter": "python",
      "file_extension": ".py"
    },
    "colab": {
      "name": "notebook09bf05e495.ipynb",
      "provenance": []
    }
  },
  "cells": [
    {
      "cell_type": "markdown",
      "metadata": {
        "id": "JPPji2hNbTDM"
      },
      "source": [
        "importing os library for os level functions like folder structure"
      ]
    },
    {
      "cell_type": "code",
      "metadata": {
        "_uuid": "8f2839f25d086af736a60e9eeb907d3b93b6e0e5",
        "_cell_guid": "b1076dfc-b9ad-4769-8c92-a6c4dae69d19",
        "execution": {
          "iopub.status.busy": "2021-09-13T13:16:52.550474Z",
          "iopub.execute_input": "2021-09-13T13:16:52.550858Z",
          "iopub.status.idle": "2021-09-13T13:16:52.569312Z",
          "shell.execute_reply.started": "2021-09-13T13:16:52.550785Z",
          "shell.execute_reply": "2021-09-13T13:16:52.568380Z"
        },
        "trusted": true,
        "colab": {
          "base_uri": "https://localhost:8080/",
          "height": 214
        },
        "id": "dfW36CBAW-6C",
        "outputId": "32076097-83fa-4719-e40b-19d57017f001"
      },
      "source": [
        "import os\n",
        "print(os.listdir(\"../input\"))\n",
        "print(os.listdir(\"../\"))"
      ],
      "execution_count": 2,
      "outputs": [
        {
          "output_type": "error",
          "ename": "FileNotFoundError",
          "evalue": "ignored",
          "traceback": [
            "\u001b[0;31m---------------------------------------------------------------------------\u001b[0m",
            "\u001b[0;31mFileNotFoundError\u001b[0m                         Traceback (most recent call last)",
            "\u001b[0;32m<ipython-input-2-be8f712ccf87>\u001b[0m in \u001b[0;36m<module>\u001b[0;34m()\u001b[0m\n\u001b[1;32m      3\u001b[0m \u001b[0;32mimport\u001b[0m \u001b[0mmatplotlib\u001b[0m\u001b[0;34m.\u001b[0m\u001b[0mpyplot\u001b[0m \u001b[0;32mas\u001b[0m \u001b[0mplt\u001b[0m\u001b[0;34m\u001b[0m\u001b[0;34m\u001b[0m\u001b[0m\n\u001b[1;32m      4\u001b[0m \u001b[0;32mimport\u001b[0m \u001b[0mos\u001b[0m\u001b[0;34m\u001b[0m\u001b[0;34m\u001b[0m\u001b[0m\n\u001b[0;32m----> 5\u001b[0;31m \u001b[0mprint\u001b[0m\u001b[0;34m(\u001b[0m\u001b[0mos\u001b[0m\u001b[0;34m.\u001b[0m\u001b[0mlistdir\u001b[0m\u001b[0;34m(\u001b[0m\u001b[0;34m\"../input\"\u001b[0m\u001b[0;34m)\u001b[0m\u001b[0;34m)\u001b[0m\u001b[0;34m\u001b[0m\u001b[0;34m\u001b[0m\u001b[0m\n\u001b[0m\u001b[1;32m      6\u001b[0m \u001b[0mprint\u001b[0m\u001b[0;34m(\u001b[0m\u001b[0mos\u001b[0m\u001b[0;34m.\u001b[0m\u001b[0mlistdir\u001b[0m\u001b[0;34m(\u001b[0m\u001b[0;34m\"../\"\u001b[0m\u001b[0;34m)\u001b[0m\u001b[0;34m)\u001b[0m\u001b[0;34m\u001b[0m\u001b[0;34m\u001b[0m\u001b[0m\n",
            "\u001b[0;31mFileNotFoundError\u001b[0m: [Errno 2] No such file or directory: '../input'"
          ]
        }
      ]
    },
    {
      "cell_type": "markdown",
      "metadata": {
        "id": "4ESftXUSbclc"
      },
      "source": [
        "importing standard libraries like numpy,pandas and matplotlib for data operations and plotting"
      ]
    },
    {
      "cell_type": "code",
      "metadata": {
        "_cell_guid": "79c7e3d0-c299-4dcb-8224-4455121ee9b0",
        "_uuid": "d629ff2d2480ee46fbb7e2d37f6b5fab8052498a",
        "trusted": true,
        "id": "qDEdxchKW-6F"
      },
      "source": [
        "import numpy as np\n",
        "import pandas as pd\n",
        "import matplotlib.pyplot as plt\n",
        "\n",
        "# reading the data using pandas\n",
        "traffic_2015 = pd.read_csv(\"../input/dot_traffic_2015.txt.gz\")\n",
        "traffic_2015_stations = pd.read_csv(\"../input/dot_traffic_stations_2015.txt.gz\")\n"
      ],
      "execution_count": null,
      "outputs": []
    },
    {
      "cell_type": "code",
      "metadata": {
        "_uuid": "83dccd290af0be7a3f72d9f1cc0329f3db186867",
        "collapsed": true,
        "jupyter": {
          "outputs_hidden": true
        },
        "trusted": true,
        "id": "89CxOriMW-6G"
      },
      "source": [
        "#print the data columns for both datasets\n",
        "print(traffic_2015.columns)\n",
        "print(traffic_2015_stations.columns)"
      ],
      "execution_count": null,
      "outputs": []
    },
    {
      "cell_type": "code",
      "metadata": {
        "collapsed": true,
        "jupyter": {
          "outputs_hidden": true
        },
        "trusted": true,
        "id": "zbhhE3CnW-6H"
      },
      "source": [
        "lat_north = 33.506573\n",
        "lat_south = 32.568381\n",
        "long_west = 117.596359 \n",
        "long_east = 116.081831\n",
        "sd_traffic_2015_stations = traffic_2015_stations[(traffic_2015_stations[\"longitude\"] <= long_west) \\\n",
        "                     & (traffic_2015_stations[\"longitude\"] >= long_east) \\\n",
        "                     & (traffic_2015_stations[\"latitude\"] <= lat_north) \\\n",
        "                     & (traffic_2015_stations[\"latitude\"] >= lat_south)]\n",
        "drop_columns = list(sd_traffic_2015_stations.columns.difference(['station_id','latitude','longitude']))\n",
        "sd_traffic_2015_stations = sd_traffic_2015_stations.drop(drop_columns, axis = 1)\n",
        "station_ids = sorted(sd_traffic_2015_stations[\"station_id\"].unique())\n",
        "for s in station_ids:\n",
        "    latitude = 0\n",
        "    longitude = 0\n",
        "    locations = sd_traffic_2015_stations[sd_traffic_2015_stations[\"station_id\"] == s].loc[:,\"latitude\":\"longitude\"]\n",
        "    latitude = locations[\"latitude\"].unique()\n",
        "    longitude = locations[\"latitude\"].unique()\n",
        "    if latitude.size > 1:\n",
        "        print(\"Station id\",s,\"has more than one latitude\")\n",
        "        print(latitude)\n",
        "    elif longitude.size > 1:\n",
        "        print(\"Station id\",s,\"has more than on longitude\")\n",
        "        print(longitude)\n",
        "sd_traffic_2015 = traffic_2015[traffic_2015[\"station_id\"].isin(station_ids)]\n",
        "sd_traffic_2015_locations = pd.merge(sd_traffic_2015, sd_traffic_2015_stations,\\\n",
        "                                    left_on='station_id',right_on='station_id')\n",
        "print(len(sd_traffic_2015_stations[\"station_id\"].unique()))\n",
        "print(len(sd_traffic_2015[\"station_id\"].unique()))\n",
        "\n",
        "print(\"IDs that were not found in the traffic dataset:\")\n",
        "for sd in station_ids:\n",
        "    if sd not in sd_traffic_2015_locations[\"station_id\"].unique():\n",
        "        print(sd)\n",
        "\n",
        "sd_station_ids = sd_traffic_2015_locations[\"station_id\"].unique()"
      ],
      "execution_count": null,
      "outputs": []
    },
    {
      "cell_type": "code",
      "metadata": {
        "trusted": true,
        "id": "57E4x3q_W-6I"
      },
      "source": [
        "import plotly"
      ],
      "execution_count": null,
      "outputs": []
    },
    {
      "cell_type": "code",
      "metadata": {
        "_kg_hide-output": true,
        "collapsed": true,
        "jupyter": {
          "outputs_hidden": true
        },
        "trusted": true,
        "id": "bVru6nS7W-6I"
      },
      "source": [
        "#printing out the dataset shape and columns\n",
        "print(sd_traffic_2015_locations.shape)\n",
        "sd_traffic_2015_locations.columns"
      ],
      "execution_count": null,
      "outputs": []
    },
    {
      "cell_type": "code",
      "metadata": {
        "trusted": true,
        "id": "8jIac4nnW-6J"
      },
      "source": [
        "sd_traffic_mean_year = pd.DataFrame()\n",
        "tmp = list()\n",
        "for station in sd_station_ids:\n",
        "    tmp = np.mean(sd_traffic_2015_locations[sd_traffic_2015_locations[\"station_id\"] == station].loc\\\n",
        "                                [:,\"traffic_volume_counted_after_0000_to_0100\":\\\n",
        "                                 \"traffic_volume_counted_after_2300_to_2400\"])\n",
        "    sd_traffic_mean_year[station] = tmp\n",
        "#plotting the data for better visualisation\n",
        "fig = plt.figure(1,figsize=(35, 20))\n",
        "ax = fig.gca()\n",
        "ax.set_xticks(np.arange(0, 25, 1))\n",
        "plt.title(\"Number of cars vs hours of the day for the year\")\n",
        "plt.xlabel(\"Hours of the day\")\n",
        "plt.ylabel(\"Number of cars\")\n",
        "plt.xlim((0,23))\n",
        "for st in sd_station_ids:\n",
        "    plt.plot(range(0,24,1),sd_traffic_mean_year[st])\n",
        "plt.legend()\n",
        "plt.grid()\n",
        "\n"
      ],
      "execution_count": null,
      "outputs": []
    },
    {
      "cell_type": "markdown",
      "metadata": {
        "id": "5rlMLlK0W-6K"
      },
      "source": [
        "We can see from the data that traffic patterns seem to be the same throughout \n",
        "the county. Around 4am traffic increases until about 9am. Traffic will begin \n",
        "decreasing around 5pm - 11pm. "
      ]
    }
  ]
}